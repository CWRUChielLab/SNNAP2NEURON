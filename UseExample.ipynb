{
 "nbformat": 4,
 "nbformat_minor": 2,
 "metadata": {
  "language_info": {
   "name": "python",
   "codemirror_mode": {
    "name": "ipython",
    "version": 3
   },
   "version": "3.8.2-final"
  },
  "orig_nbformat": 2,
  "file_extension": ".py",
  "mimetype": "text/x-python",
  "name": "python",
  "npconvert_exporter": "python",
  "pygments_lexer": "ipython3",
  "version": 3,
  "kernelspec": {
   "name": "python38264bit21e091009c4649c0ac22203bbe17f424",
   "display_name": "Python 3.8.2 64-bit"
  }
 },
 "cells": [
  {
   "cell_type": "markdown",
   "metadata": {},
   "source": [
    "After generating a translation of your SNNAP simulation in NEURON, you can interact with it through NEURON's python interface. This notebok is an example of running and plotting your simulation to get you started."
   ]
  },
  {
   "cell_type": "code",
   "execution_count": null,
   "metadata": {},
   "outputs": [],
   "source": [
    "from neuron import h, gui\n",
    "from bokeh.io import output_notebook\n",
    "import bokeh.plotting as plt\n",
    "output_notebook()"
   ]
  },
  {
   "cell_type": "code",
   "execution_count": null,
   "metadata": {},
   "outputs": [],
   "source": [
    "h.load_file('sim_rBMP.hoc') # replace with translated simulation of your choice"
   ]
  },
  {
   "cell_type": "code",
   "execution_count": null,
   "metadata": {},
   "outputs": [],
   "source": [
    "h.topology()"
   ]
  },
  {
   "cell_type": "code",
   "execution_count": null,
   "metadata": {},
   "outputs": [],
   "source": [
    "# list the cells and set NEURON vectors to record from them\n",
    "sl = h.SectionList(); sl.allroots()\n",
    "i=0\n",
    "vm = []\n",
    "for sec in sl:\n",
    "    print sec \n",
    "    vm.append(h.Vector().record(sec(.5)._ref_v))\n",
    "    i+=1\n",
    "print str(i)+' cells'\n",
    "t = h.Vector().record(h._ref_t)"
   ]
  },
  {
   "cell_type": "code",
   "execution_count": null,
   "metadata": {},
   "outputs": [],
   "source": [
    "# re-run to populate vectors (note translation includes an alternate run func)\n",
    "h.alt_run()"
   ]
  },
  {
   "cell_type": "code",
   "execution_count": null,
   "metadata": {
    "tags": [
     "outputPrepend"
    ]
   },
   "outputs": [],
   "source": [
    "# plot any of the membrane potentials\n",
    "f = plt.figure(x_axis_label='t (ms)', y_axis_label='v (mV)')\n",
    "#f.line(t, vm[5], line_width=2)\n",
    "#f.line(t, vm[9], line_width=2)\n",
    "f.line(t, vm[1], line_width=2)\n",
    "plt.show(f)"
   ]
  }
 ]
}